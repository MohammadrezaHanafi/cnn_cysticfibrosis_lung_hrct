{
  "cells": [
    {
      "cell_type": "code",
      "execution_count": 69,
      "metadata": {
        "id": "11_KCggvFbfc"
      },
      "outputs": [],
      "source": [
        "import numpy as np\n",
        "import pandas as pd\n",
        "from keras.preprocessing.image import ImageDataGenerator\n",
        "from keras.utils import to_categorical\n",
        "from sklearn.model_selection import train_test_split\n",
        "import matplotlib.pyplot as plt\n",
        "import random\n",
        "import os\n",
        "from keras.layers import Dense, Conv2D, MaxPooling2D , Flatten,Dropout\n",
        "import keras"
      ]
    },
    {
      "cell_type": "code",
      "execution_count": 70,
      "metadata": {
        "colab": {
          "base_uri": "https://localhost:8080/"
        },
        "id": "RB093T7dF-6I",
        "outputId": "84f8dd31-35ec-4b7d-b505-7777643083a4"
      },
      "outputs": [
        {
          "name": "stdout",
          "output_type": "stream",
          "text": [
            "normal size is: 3617\n",
            "normal_label size is: 3617\n"
          ]
        }
      ],
      "source": [
        "import scipy.io as sio\n",
        "import matplotlib.pyplot as plt\n",
        "import cv2\n",
        "from google.colab.patches import cv2_imshow\n",
        "normal=[]\n",
        "normal_label=[]\n",
        "#label for normal:0\n",
        "for i in range(1,4):\n",
        "  data=sio.loadmat(\"/content/drive/MyDrive/HRCT/normal/\"+str(i)+\".mat\")\n",
        "  data1=data[\"totalDataSource\"].reshape(data[\"totalDataSource\"].shape[2],16,16)\n",
        "  for j in range(0,data1.shape[0]):\n",
        "    normal.append(data1[j])  \n",
        "    normal_label.append(0)\n",
        "\n",
        "print(\"normal size is:\",len(normal))\n",
        "print(\"normal_label size is:\",len(normal_label))"
      ]
    },
    {
      "cell_type": "code",
      "execution_count": 71,
      "metadata": {
        "colab": {
          "base_uri": "https://localhost:8080/"
        },
        "id": "O0S5gmeKNukR",
        "outputId": "3822e2f5-3417-4a93-bc68-8ec329adaeaa"
      },
      "outputs": [
        {
          "name": "stdout",
          "output_type": "stream",
          "text": [
            "inflammation size is: 408\n",
            "inflammation_label size is: 408\n"
          ]
        }
      ],
      "source": [
        "import scipy.io as sio\n",
        "import matplotlib.pyplot as plt\n",
        "import cv2\n",
        "from google.colab.patches import cv2_imshow\n",
        "inflammation=[]\n",
        "inflammation_label=[]\n",
        "#label for inflammation:1\n",
        "for i in range(1,21):\n",
        "  data=sio.loadmat(\"/content/drive/MyDrive/HRCT/inflammation/\"+str(i)+\".mat\")\n",
        "  data1=data[\"totalDataSource\"].reshape(data[\"totalDataSource\"].shape[2],16,16)\n",
        "  for j in range(0,data1.shape[0]):\n",
        "    inflammation.append(data1[j])  \n",
        "    inflammation_label.append(0)\n",
        "\n",
        "print(\"inflammation size is:\",len(inflammation))\n",
        "print(\"inflammation_label size is:\",len(inflammation_label))\n"
      ]
    },
    {
      "cell_type": "code",
      "execution_count": 72,
      "metadata": {
        "colab": {
          "base_uri": "https://localhost:8080/"
        },
        "id": "D4myZWs5N1Xd",
        "outputId": "820a02ba-9623-4f58-f791-5b30516600f7"
      },
      "outputs": [
        {
          "name": "stdout",
          "output_type": "stream",
          "text": [
            "bronch size is: 3198\n",
            "bronch_label size is: 3198\n"
          ]
        }
      ],
      "source": [
        "import scipy.io as sio\n",
        "import matplotlib.pyplot as plt\n",
        "import cv2\n",
        "from google.colab.patches import cv2_imshow\n",
        "bronch=[]\n",
        "bronch_label=[]\n",
        "#label for bronch:2\n",
        "for i in range(1,14):\n",
        "  data=sio.loadmat(\"/content/drive/MyDrive/HRCT/bronch/\"+str(i)+\".mat\")\n",
        "  data1=data[\"totalDataSource\"].reshape(data[\"totalDataSource\"].shape[2],16,16)\n",
        "  for j in range(0,data1.shape[0]):\n",
        "    bronch.append(data1[j])  \n",
        "    bronch_label.append(2)\n",
        "\n",
        "print(\"bronch size is:\",len(bronch))\n",
        "print(\"bronch_label size is:\",len(bronch_label))"
      ]
    },
    {
      "cell_type": "code",
      "execution_count": 73,
      "metadata": {
        "id": "iQpDaTx_N6Jh"
      },
      "outputs": [],
      "source": [
        "\n",
        "train=normal+inflammation+bronch\n",
        "\n",
        "train_label=normal_label+inflammation_label+bronch_label"
      ]
    },
    {
      "cell_type": "code",
      "execution_count": 74,
      "metadata": {
        "id": "nS41KhroOADH"
      },
      "outputs": [],
      "source": [
        "import numpy as np\n",
        "\n",
        "train=np.asarray(train).reshape((len(train),16,16))\n"
      ]
    },
    {
      "cell_type": "code",
      "execution_count": 75,
      "metadata": {
        "id": "_CGQOd_GOCy9"
      },
      "outputs": [],
      "source": [
        "train=train.reshape((7223, 16, 16,1))"
      ]
    },
    {
      "cell_type": "code",
      "execution_count": 76,
      "metadata": {
        "id": "7V7h8sdXSGEW"
      },
      "outputs": [],
      "source": [
        "from sklearn.utils import shuffle\n",
        "train , train_label = shuffle([np.array(train) , np.array(train_label)])\n",
        "\n",
        "\n"
      ]
    },
    {
      "cell_type": "code",
      "execution_count": 77,
      "metadata": {
        "id": "1JXykTfiOFFJ"
      },
      "outputs": [],
      "source": [
        "from keras.utils import np_utils\n",
        "train_label=np_utils.to_categorical(train_label,3)\n"
      ]
    },
    {
      "cell_type": "code",
      "execution_count": 78,
      "metadata": {
        "colab": {
          "base_uri": "https://localhost:8080/"
        },
        "id": "afO8cm3UOIXQ",
        "outputId": "839cb4d6-69a7-4964-82be-cb9713a92ff1"
      },
      "outputs": [
        {
          "data": {
            "text/plain": [
              "array([[1., 0., 0.],\n",
              "       [1., 0., 0.],\n",
              "       [1., 0., 0.],\n",
              "       ...,\n",
              "       [0., 0., 1.],\n",
              "       [0., 0., 1.],\n",
              "       [0., 0., 1.]], dtype=float32)"
            ]
          },
          "execution_count": 78,
          "metadata": {},
          "output_type": "execute_result"
        }
      ],
      "source": [
        "train_label\n"
      ]
    },
    {
      "cell_type": "code",
      "execution_count": 79,
      "metadata": {
        "colab": {
          "base_uri": "https://localhost:8080/"
        },
        "id": "H-8OcFGdQY9p",
        "outputId": "a8f8625d-4dc6-4541-a2f6-8e35cacfe451"
      },
      "outputs": [
        {
          "name": "stderr",
          "output_type": "stream",
          "text": [
            "WARNING:tensorflow:`period` argument is deprecated. Please use `save_freq` to specify the frequency in number of batches seen.\n"
          ]
        },
        {
          "name": "stdout",
          "output_type": "stream",
          "text": [
            "Model: \"sequential_8\"\n",
            "_________________________________________________________________\n",
            " Layer (type)                Output Shape              Param #   \n",
            "=================================================================\n",
            " conv2d_14 (Conv2D)          (None, 16, 16, 64)        640       \n",
            "                                                                 \n",
            " max_pooling2d_12 (MaxPoolin  (None, 8, 8, 64)         0         \n",
            " g2D)                                                            \n",
            "                                                                 \n",
            " conv2d_15 (Conv2D)          (None, 8, 8, 128)         73856     \n",
            "                                                                 \n",
            " max_pooling2d_13 (MaxPoolin  (None, 4, 4, 128)        0         \n",
            " g2D)                                                            \n",
            "                                                                 \n",
            " flatten_12 (Flatten)        (None, 2048)              0         \n",
            "                                                                 \n",
            " dense_18 (Dense)            (None, 1024)              2098176   \n",
            "                                                                 \n",
            " flatten_13 (Flatten)        (None, 1024)              0         \n",
            "                                                                 \n",
            " dense_19 (Dense)            (None, 10)                10250     \n",
            "                                                                 \n",
            " dropout_6 (Dropout)         (None, 10)                0         \n",
            "                                                                 \n",
            " dense_20 (Dense)            (None, 3)                 33        \n",
            "                                                                 \n",
            "=================================================================\n",
            "Total params: 2,182,955\n",
            "Trainable params: 2,182,955\n",
            "Non-trainable params: 0\n",
            "_________________________________________________________________\n",
            "Epoch 1/79\n",
            "315/316 [============================>.] - ETA: 0s - loss: 0.8081 - accuracy: 0.6508\n",
            "Epoch 1: val_accuracy improved from -inf to 0.87171, saving model to adam_3.h5\n",
            "316/316 [==============================] - 5s 11ms/step - loss: 0.8077 - accuracy: 0.6511 - val_loss: 0.6135 - val_accuracy: 0.8717\n",
            "Epoch 2/79\n",
            "313/316 [============================>.] - ETA: 0s - loss: 0.6114 - accuracy: 0.7230\n",
            "Epoch 2: val_accuracy did not improve from 0.87171\n",
            "316/316 [==============================] - 2s 8ms/step - loss: 0.6113 - accuracy: 0.7243 - val_loss: 0.5077 - val_accuracy: 0.8509\n",
            "Epoch 3/79\n",
            "313/316 [============================>.] - ETA: 0s - loss: 0.5368 - accuracy: 0.8111\n",
            "Epoch 3: val_accuracy did not improve from 0.87171\n",
            "316/316 [==============================] - 3s 9ms/step - loss: 0.5366 - accuracy: 0.8115 - val_loss: 0.4450 - val_accuracy: 0.8699\n",
            "Epoch 4/79\n",
            "311/316 [============================>.] - ETA: 0s - loss: 0.4675 - accuracy: 0.8246\n",
            "Epoch 4: val_accuracy improved from 0.87171 to 0.90586, saving model to adam_3.h5\n",
            "316/316 [==============================] - 3s 9ms/step - loss: 0.4672 - accuracy: 0.8246 - val_loss: 0.3550 - val_accuracy: 0.9059\n",
            "Epoch 5/79\n",
            "316/316 [==============================] - ETA: 0s - loss: 0.4122 - accuracy: 0.8461\n",
            "Epoch 5: val_accuracy did not improve from 0.90586\n",
            "316/316 [==============================] - 5s 14ms/step - loss: 0.4122 - accuracy: 0.8461 - val_loss: 0.3265 - val_accuracy: 0.9026\n",
            "Epoch 6/79\n",
            "315/316 [============================>.] - ETA: 0s - loss: 0.3761 - accuracy: 0.8597\n",
            "Epoch 6: val_accuracy did not improve from 0.90586\n",
            "316/316 [==============================] - 3s 9ms/step - loss: 0.3774 - accuracy: 0.8590 - val_loss: 0.3059 - val_accuracy: 0.9012\n",
            "Epoch 7/79\n",
            "312/316 [============================>.] - ETA: 0s - loss: 0.3489 - accuracy: 0.8764\n",
            "Epoch 7: val_accuracy did not improve from 0.90586\n",
            "316/316 [==============================] - 2s 6ms/step - loss: 0.3499 - accuracy: 0.8758 - val_loss: 0.3016 - val_accuracy: 0.8985\n",
            "Epoch 8/79\n",
            "306/316 [============================>.] - ETA: 0s - loss: 0.3300 - accuracy: 0.8821\n",
            "Epoch 8: val_accuracy improved from 0.90586 to 0.91001, saving model to adam_3.h5\n",
            "316/316 [==============================] - 2s 6ms/step - loss: 0.3307 - accuracy: 0.8817 - val_loss: 0.2781 - val_accuracy: 0.9100\n",
            "Epoch 9/79\n",
            "312/316 [============================>.] - ETA: 0s - loss: 0.2898 - accuracy: 0.8958\n",
            "Epoch 9: val_accuracy did not improve from 0.91001\n",
            "316/316 [==============================] - 2s 6ms/step - loss: 0.2891 - accuracy: 0.8960 - val_loss: 0.2800 - val_accuracy: 0.9054\n",
            "Epoch 10/79\n",
            "308/316 [============================>.] - ETA: 0s - loss: 0.2680 - accuracy: 0.9028\n",
            "Epoch 10: val_accuracy improved from 0.91001 to 0.91048, saving model to adam_3.h5\n",
            "316/316 [==============================] - 2s 6ms/step - loss: 0.2672 - accuracy: 0.9027 - val_loss: 0.2722 - val_accuracy: 0.9105\n",
            "Epoch 11/79\n",
            "312/316 [============================>.] - ETA: 0s - loss: 0.2521 - accuracy: 0.9056\n",
            "Epoch 11: val_accuracy did not improve from 0.91048\n",
            "316/316 [==============================] - 3s 10ms/step - loss: 0.2509 - accuracy: 0.9061 - val_loss: 0.3071 - val_accuracy: 0.8943\n",
            "Epoch 12/79\n",
            "313/316 [============================>.] - ETA: 0s - loss: 0.2485 - accuracy: 0.9006\n",
            "Epoch 12: val_accuracy did not improve from 0.91048\n",
            "316/316 [==============================] - 3s 8ms/step - loss: 0.2485 - accuracy: 0.9003 - val_loss: 0.3157 - val_accuracy: 0.8759\n",
            "Epoch 13/79\n",
            "310/316 [============================>.] - ETA: 0s - loss: 0.2452 - accuracy: 0.9089\n",
            "Epoch 13: val_accuracy did not improve from 0.91048\n",
            "316/316 [==============================] - 1s 5ms/step - loss: 0.2462 - accuracy: 0.9078 - val_loss: 0.3466 - val_accuracy: 0.8800\n",
            "Epoch 14/79\n",
            "305/316 [===========================>..] - ETA: 0s - loss: 0.2144 - accuracy: 0.9209\n",
            "Epoch 14: val_accuracy did not improve from 0.91048\n",
            "316/316 [==============================] - 1s 5ms/step - loss: 0.2133 - accuracy: 0.9211 - val_loss: 0.2727 - val_accuracy: 0.9059\n",
            "Epoch 15/79\n",
            "316/316 [==============================] - ETA: 0s - loss: 0.1976 - accuracy: 0.9153\n",
            "Epoch 15: val_accuracy did not improve from 0.91048\n",
            "316/316 [==============================] - 1s 4ms/step - loss: 0.1976 - accuracy: 0.9153 - val_loss: 0.3030 - val_accuracy: 0.8971\n",
            "Epoch 16/79\n",
            "311/316 [============================>.] - ETA: 0s - loss: 0.1829 - accuracy: 0.9293\n",
            "Epoch 16: val_accuracy did not improve from 0.91048\n",
            "316/316 [==============================] - 1s 5ms/step - loss: 0.1830 - accuracy: 0.9292 - val_loss: 0.3263 - val_accuracy: 0.8939\n",
            "Epoch 17/79\n",
            "316/316 [==============================] - ETA: 0s - loss: 0.1660 - accuracy: 0.9428\n",
            "Epoch 17: val_accuracy did not improve from 0.91048\n",
            "316/316 [==============================] - 2s 6ms/step - loss: 0.1660 - accuracy: 0.9428 - val_loss: 0.3903 - val_accuracy: 0.8722\n",
            "Epoch 18/79\n",
            "315/316 [============================>.] - ETA: 0s - loss: 0.1603 - accuracy: 0.9565\n",
            "Epoch 18: val_accuracy did not improve from 0.91048\n",
            "316/316 [==============================] - 1s 5ms/step - loss: 0.1600 - accuracy: 0.9567 - val_loss: 0.2653 - val_accuracy: 0.9091\n",
            "Epoch 19/79\n",
            "307/316 [============================>.] - ETA: 0s - loss: 0.1454 - accuracy: 0.9542\n",
            "Epoch 19: val_accuracy did not improve from 0.91048\n",
            "316/316 [==============================] - 2s 6ms/step - loss: 0.1465 - accuracy: 0.9539 - val_loss: 0.3322 - val_accuracy: 0.8971\n",
            "Epoch 20/79\n",
            "311/316 [============================>.] - ETA: 0s - loss: 0.1358 - accuracy: 0.9610\n",
            "Epoch 20: val_accuracy improved from 0.91048 to 0.91324, saving model to adam_3.h5\n",
            "316/316 [==============================] - 2s 8ms/step - loss: 0.1353 - accuracy: 0.9610 - val_loss: 0.2644 - val_accuracy: 0.9132\n",
            "Epoch 21/79\n",
            "313/316 [============================>.] - ETA: 0s - loss: 0.1488 - accuracy: 0.9559\n",
            "Epoch 21: val_accuracy did not improve from 0.91324\n",
            "316/316 [==============================] - 1s 4ms/step - loss: 0.1484 - accuracy: 0.9559 - val_loss: 0.2754 - val_accuracy: 0.9086\n",
            "Epoch 22/79\n",
            "303/316 [===========================>..] - ETA: 0s - loss: 0.1153 - accuracy: 0.9651\n",
            "Epoch 22: val_accuracy did not improve from 0.91324\n",
            "316/316 [==============================] - 2s 5ms/step - loss: 0.1148 - accuracy: 0.9648 - val_loss: 0.3046 - val_accuracy: 0.9096\n",
            "Epoch 23/79\n",
            "313/316 [============================>.] - ETA: 0s - loss: 0.1009 - accuracy: 0.9675\n",
            "Epoch 23: val_accuracy improved from 0.91324 to 0.91970, saving model to adam_3.h5\n",
            "316/316 [==============================] - 2s 6ms/step - loss: 0.1005 - accuracy: 0.9676 - val_loss: 0.2790 - val_accuracy: 0.9197\n",
            "Epoch 24/79\n",
            "309/316 [============================>.] - ETA: 0s - loss: 0.1386 - accuracy: 0.9545\n",
            "Epoch 24: val_accuracy did not improve from 0.91970\n",
            "316/316 [==============================] - 1s 5ms/step - loss: 0.1388 - accuracy: 0.9549 - val_loss: 0.3069 - val_accuracy: 0.9049\n",
            "Epoch 25/79\n",
            "310/316 [============================>.] - ETA: 0s - loss: 0.1137 - accuracy: 0.9609\n",
            "Epoch 25: val_accuracy did not improve from 0.91970\n",
            "316/316 [==============================] - 1s 5ms/step - loss: 0.1143 - accuracy: 0.9610 - val_loss: 0.2944 - val_accuracy: 0.9169\n",
            "Epoch 26/79\n",
            "310/316 [============================>.] - ETA: 0s - loss: 0.0985 - accuracy: 0.9643\n",
            "Epoch 26: val_accuracy did not improve from 0.91970\n",
            "316/316 [==============================] - 1s 5ms/step - loss: 0.0987 - accuracy: 0.9644 - val_loss: 0.3169 - val_accuracy: 0.9119\n",
            "Epoch 27/79\n",
            "308/316 [============================>.] - ETA: 0s - loss: 0.1096 - accuracy: 0.9602\n",
            "Epoch 27: val_accuracy did not improve from 0.91970\n",
            "316/316 [==============================] - 2s 6ms/step - loss: 0.1083 - accuracy: 0.9608 - val_loss: 0.3301 - val_accuracy: 0.8957\n",
            "Epoch 28/79\n",
            "311/316 [============================>.] - ETA: 0s - loss: 0.1045 - accuracy: 0.9749\n",
            "Epoch 28: val_accuracy did not improve from 0.91970\n",
            "316/316 [==============================] - 2s 7ms/step - loss: 0.1037 - accuracy: 0.9753 - val_loss: 0.3386 - val_accuracy: 0.9077\n",
            "Epoch 29/79\n",
            "309/316 [============================>.] - ETA: 0s - loss: 0.0899 - accuracy: 0.9755\n",
            "Epoch 29: val_accuracy did not improve from 0.91970\n",
            "316/316 [==============================] - 1s 5ms/step - loss: 0.0895 - accuracy: 0.9759 - val_loss: 0.3668 - val_accuracy: 0.8925\n",
            "Epoch 30/79\n",
            "309/316 [============================>.] - ETA: 0s - loss: 0.0970 - accuracy: 0.9763\n",
            "Epoch 30: val_accuracy did not improve from 0.91970\n",
            "316/316 [==============================] - 1s 5ms/step - loss: 0.0975 - accuracy: 0.9767 - val_loss: 0.4069 - val_accuracy: 0.9022\n",
            "Epoch 31/79\n",
            "307/316 [============================>.] - ETA: 0s - loss: 0.1047 - accuracy: 0.9805\n",
            "Epoch 31: val_accuracy did not improve from 0.91970\n",
            "316/316 [==============================] - 1s 5ms/step - loss: 0.1052 - accuracy: 0.9802 - val_loss: 0.3179 - val_accuracy: 0.9082\n",
            "Epoch 32/79\n",
            "309/316 [============================>.] - ETA: 0s - loss: 0.0861 - accuracy: 0.9790\n",
            "Epoch 32: val_accuracy did not improve from 0.91970\n",
            "316/316 [==============================] - 1s 5ms/step - loss: 0.0855 - accuracy: 0.9792 - val_loss: 0.3500 - val_accuracy: 0.9096\n",
            "Epoch 33/79\n",
            "313/316 [============================>.] - ETA: 0s - loss: 0.0718 - accuracy: 0.9810\n",
            "Epoch 33: val_accuracy did not improve from 0.91970\n",
            "316/316 [==============================] - 1s 4ms/step - loss: 0.0755 - accuracy: 0.9804 - val_loss: 0.3974 - val_accuracy: 0.9017\n",
            "Epoch 34/79\n",
            "306/316 [============================>.] - ETA: 0s - loss: 0.0832 - accuracy: 0.9783\n",
            "Epoch 34: val_accuracy did not improve from 0.91970\n",
            "316/316 [==============================] - 1s 5ms/step - loss: 0.0825 - accuracy: 0.9788 - val_loss: 0.4091 - val_accuracy: 0.9072\n",
            "Epoch 35/79\n",
            "302/316 [===========================>..] - ETA: 0s - loss: 0.0763 - accuracy: 0.9787\n",
            "Epoch 35: val_accuracy did not improve from 0.91970\n",
            "316/316 [==============================] - 1s 5ms/step - loss: 0.0772 - accuracy: 0.9780 - val_loss: 0.3598 - val_accuracy: 0.9146\n",
            "Epoch 36/79\n",
            "312/316 [============================>.] - ETA: 0s - loss: 0.0735 - accuracy: 0.9816\n",
            "Epoch 36: val_accuracy did not improve from 0.91970\n",
            "316/316 [==============================] - 2s 7ms/step - loss: 0.0747 - accuracy: 0.9812 - val_loss: 0.5283 - val_accuracy: 0.8832\n",
            "Epoch 37/79\n",
            "302/316 [===========================>..] - ETA: 0s - loss: 0.0815 - accuracy: 0.9783\n",
            "Epoch 37: val_accuracy did not improve from 0.91970\n",
            "316/316 [==============================] - 2s 5ms/step - loss: 0.0839 - accuracy: 0.9780 - val_loss: 0.4197 - val_accuracy: 0.9045\n",
            "Epoch 38/79\n",
            "310/316 [============================>.] - ETA: 0s - loss: 0.0861 - accuracy: 0.9784\n",
            "Epoch 38: val_accuracy did not improve from 0.91970\n",
            "316/316 [==============================] - 1s 5ms/step - loss: 0.0861 - accuracy: 0.9780 - val_loss: 0.3615 - val_accuracy: 0.9128\n",
            "Epoch 39/79\n",
            "316/316 [==============================] - ETA: 0s - loss: 0.0617 - accuracy: 0.9871\n",
            "Epoch 39: val_accuracy did not improve from 0.91970\n",
            "316/316 [==============================] - 1s 4ms/step - loss: 0.0617 - accuracy: 0.9871 - val_loss: 0.3528 - val_accuracy: 0.9174\n",
            "Epoch 40/79\n",
            "307/316 [============================>.] - ETA: 0s - loss: 0.0670 - accuracy: 0.9825\n",
            "Epoch 40: val_accuracy did not improve from 0.91970\n",
            "316/316 [==============================] - 1s 5ms/step - loss: 0.0675 - accuracy: 0.9824 - val_loss: 0.3976 - val_accuracy: 0.9045\n",
            "Epoch 41/79\n",
            "303/316 [===========================>..] - ETA: 0s - loss: 0.0924 - accuracy: 0.9744\n",
            "Epoch 41: val_accuracy did not improve from 0.91970\n",
            "316/316 [==============================] - 1s 5ms/step - loss: 0.0928 - accuracy: 0.9743 - val_loss: 0.3499 - val_accuracy: 0.9086\n",
            "Epoch 42/79\n",
            "312/316 [============================>.] - ETA: 0s - loss: 0.0570 - accuracy: 0.9870\n",
            "Epoch 42: val_accuracy did not improve from 0.91970\n",
            "316/316 [==============================] - 1s 5ms/step - loss: 0.0569 - accuracy: 0.9867 - val_loss: 0.3541 - val_accuracy: 0.9183\n",
            "Epoch 43/79\n",
            "306/316 [============================>.] - ETA: 0s - loss: 0.0554 - accuracy: 0.9824\n",
            "Epoch 43: val_accuracy did not improve from 0.91970\n",
            "316/316 [==============================] - 1s 5ms/step - loss: 0.0550 - accuracy: 0.9826 - val_loss: 0.3807 - val_accuracy: 0.9160\n",
            "Epoch 44/79\n",
            "309/316 [============================>.] - ETA: 0s - loss: 0.0549 - accuracy: 0.9869\n",
            "Epoch 44: val_accuracy did not improve from 0.91970\n",
            "316/316 [==============================] - 2s 6ms/step - loss: 0.0549 - accuracy: 0.9869 - val_loss: 0.4161 - val_accuracy: 0.9165\n",
            "Epoch 45/79\n",
            "314/316 [============================>.] - ETA: 0s - loss: 0.0529 - accuracy: 0.9853\n",
            "Epoch 45: val_accuracy did not improve from 0.91970\n",
            "316/316 [==============================] - 2s 8ms/step - loss: 0.0528 - accuracy: 0.9852 - val_loss: 0.3937 - val_accuracy: 0.9169\n",
            "Epoch 46/79\n",
            "303/316 [===========================>..] - ETA: 0s - loss: 0.0498 - accuracy: 0.9856\n",
            "Epoch 46: val_accuracy did not improve from 0.91970\n",
            "316/316 [==============================] - 1s 5ms/step - loss: 0.0501 - accuracy: 0.9856 - val_loss: 0.4163 - val_accuracy: 0.9188\n",
            "Epoch 47/79\n",
            "304/316 [===========================>..] - ETA: 0s - loss: 0.0540 - accuracy: 0.9829\n",
            "Epoch 47: val_accuracy did not improve from 0.91970\n",
            "316/316 [==============================] - 1s 5ms/step - loss: 0.0536 - accuracy: 0.9828 - val_loss: 0.4785 - val_accuracy: 0.9049\n",
            "Epoch 48/79\n",
            "308/316 [============================>.] - ETA: 0s - loss: 0.1083 - accuracy: 0.9669\n",
            "Epoch 48: val_accuracy did not improve from 0.91970\n",
            "316/316 [==============================] - 1s 5ms/step - loss: 0.1068 - accuracy: 0.9674 - val_loss: 0.4063 - val_accuracy: 0.9119\n",
            "Epoch 49/79\n",
            "305/316 [===========================>..] - ETA: 0s - loss: 0.0766 - accuracy: 0.9775\n",
            "Epoch 49: val_accuracy did not improve from 0.91970\n",
            "316/316 [==============================] - 2s 6ms/step - loss: 0.0757 - accuracy: 0.9778 - val_loss: 0.4216 - val_accuracy: 0.9086\n",
            "Epoch 50/79\n",
            "311/316 [============================>.] - ETA: 0s - loss: 0.0591 - accuracy: 0.9827\n",
            "Epoch 50: val_accuracy did not improve from 0.91970\n",
            "316/316 [==============================] - 2s 7ms/step - loss: 0.0593 - accuracy: 0.9826 - val_loss: 0.5637 - val_accuracy: 0.8851\n",
            "Epoch 51/79\n",
            "310/316 [============================>.] - ETA: 0s - loss: 0.0633 - accuracy: 0.9804\n",
            "Epoch 51: val_accuracy did not improve from 0.91970\n",
            "316/316 [==============================] - 2s 6ms/step - loss: 0.0629 - accuracy: 0.9806 - val_loss: 0.4336 - val_accuracy: 0.9017\n",
            "Epoch 52/79\n",
            "308/316 [============================>.] - ETA: 0s - loss: 0.0614 - accuracy: 0.9834\n",
            "Epoch 52: val_accuracy did not improve from 0.91970\n",
            "316/316 [==============================] - 2s 7ms/step - loss: 0.0607 - accuracy: 0.9834 - val_loss: 0.4121 - val_accuracy: 0.9132\n",
            "Epoch 53/79\n",
            "313/316 [============================>.] - ETA: 0s - loss: 0.0465 - accuracy: 0.9870\n",
            "Epoch 53: val_accuracy did not improve from 0.91970\n",
            "316/316 [==============================] - 2s 6ms/step - loss: 0.0463 - accuracy: 0.9871 - val_loss: 0.4296 - val_accuracy: 0.9183\n",
            "Epoch 54/79\n",
            "314/316 [============================>.] - ETA: 0s - loss: 0.0471 - accuracy: 0.9863\n",
            "Epoch 54: val_accuracy did not improve from 0.91970\n",
            "316/316 [==============================] - 1s 5ms/step - loss: 0.0469 - accuracy: 0.9864 - val_loss: 0.4618 - val_accuracy: 0.9156\n",
            "Epoch 55/79\n",
            "311/316 [============================>.] - ETA: 0s - loss: 0.0480 - accuracy: 0.9831\n",
            "Epoch 55: val_accuracy did not improve from 0.91970\n",
            "316/316 [==============================] - 2s 6ms/step - loss: 0.0477 - accuracy: 0.9834 - val_loss: 0.4506 - val_accuracy: 0.9188\n",
            "Epoch 56/79\n",
            "307/316 [============================>.] - ETA: 0s - loss: 0.0412 - accuracy: 0.9845\n",
            "Epoch 56: val_accuracy did not improve from 0.91970\n",
            "316/316 [==============================] - 2s 6ms/step - loss: 0.0417 - accuracy: 0.9840 - val_loss: 0.4831 - val_accuracy: 0.9165\n",
            "Epoch 57/79\n",
            "304/316 [===========================>..] - ETA: 0s - loss: 0.0437 - accuracy: 0.9833\n",
            "Epoch 57: val_accuracy did not improve from 0.91970\n",
            "316/316 [==============================] - 1s 5ms/step - loss: 0.0436 - accuracy: 0.9832 - val_loss: 0.4858 - val_accuracy: 0.9179\n",
            "Epoch 58/79\n",
            "311/316 [============================>.] - ETA: 0s - loss: 0.0416 - accuracy: 0.9871\n",
            "Epoch 58: val_accuracy did not improve from 0.91970\n",
            "316/316 [==============================] - 1s 5ms/step - loss: 0.0415 - accuracy: 0.9873 - val_loss: 0.5171 - val_accuracy: 0.9165\n",
            "Epoch 59/79\n",
            "308/316 [============================>.] - ETA: 0s - loss: 0.0429 - accuracy: 0.9815\n",
            "Epoch 59: val_accuracy did not improve from 0.91970\n",
            "316/316 [==============================] - 2s 5ms/step - loss: 0.0425 - accuracy: 0.9818 - val_loss: 0.5122 - val_accuracy: 0.9183\n",
            "Epoch 60/79\n",
            "316/316 [==============================] - ETA: 0s - loss: 0.0444 - accuracy: 0.9844\n",
            "Epoch 60: val_accuracy did not improve from 0.91970\n",
            "316/316 [==============================] - 2s 7ms/step - loss: 0.0444 - accuracy: 0.9844 - val_loss: 0.5128 - val_accuracy: 0.9165\n",
            "Epoch 61/79\n",
            "311/316 [============================>.] - ETA: 0s - loss: 0.0397 - accuracy: 0.9861\n",
            "Epoch 61: val_accuracy did not improve from 0.91970\n",
            "316/316 [==============================] - 2s 6ms/step - loss: 0.0395 - accuracy: 0.9862 - val_loss: 0.5166 - val_accuracy: 0.9188\n",
            "Epoch 62/79\n",
            "304/316 [===========================>..] - ETA: 0s - loss: 0.0414 - accuracy: 0.9850\n",
            "Epoch 62: val_accuracy did not improve from 0.91970\n",
            "316/316 [==============================] - 2s 6ms/step - loss: 0.0409 - accuracy: 0.9852 - val_loss: 0.5344 - val_accuracy: 0.9174\n",
            "Epoch 63/79\n",
            "310/316 [============================>.] - ETA: 0s - loss: 0.0370 - accuracy: 0.9855\n",
            "Epoch 63: val_accuracy did not improve from 0.91970\n",
            "316/316 [==============================] - 1s 5ms/step - loss: 0.0367 - accuracy: 0.9856 - val_loss: 0.5705 - val_accuracy: 0.9128\n",
            "Epoch 64/79\n",
            "309/316 [============================>.] - ETA: 0s - loss: 0.0423 - accuracy: 0.9842\n",
            "Epoch 64: val_accuracy did not improve from 0.91970\n",
            "316/316 [==============================] - 1s 5ms/step - loss: 0.0422 - accuracy: 0.9842 - val_loss: 0.5632 - val_accuracy: 0.9151\n",
            "Epoch 65/79\n",
            "312/316 [============================>.] - ETA: 0s - loss: 0.0417 - accuracy: 0.9832\n",
            "Epoch 65: val_accuracy did not improve from 0.91970\n",
            "316/316 [==============================] - 1s 5ms/step - loss: 0.0416 - accuracy: 0.9832 - val_loss: 0.6084 - val_accuracy: 0.9128\n",
            "Epoch 66/79\n",
            "313/316 [============================>.] - ETA: 0s - loss: 0.1011 - accuracy: 0.9685\n",
            "Epoch 66: val_accuracy did not improve from 0.91970\n",
            "316/316 [==============================] - 1s 5ms/step - loss: 0.1004 - accuracy: 0.9688 - val_loss: 0.3994 - val_accuracy: 0.9077\n",
            "Epoch 67/79\n",
            "305/316 [===========================>..] - ETA: 0s - loss: 0.0729 - accuracy: 0.9758\n",
            "Epoch 67: val_accuracy did not improve from 0.91970\n",
            "316/316 [==============================] - 1s 5ms/step - loss: 0.0713 - accuracy: 0.9763 - val_loss: 0.4892 - val_accuracy: 0.9160\n",
            "Epoch 68/79\n",
            "310/316 [============================>.] - ETA: 0s - loss: 0.0520 - accuracy: 0.9800\n",
            "Epoch 68: val_accuracy did not improve from 0.91970\n",
            "316/316 [==============================] - 2s 7ms/step - loss: 0.0541 - accuracy: 0.9798 - val_loss: 0.6053 - val_accuracy: 0.8879\n",
            "Epoch 69/79\n",
            "308/316 [============================>.] - ETA: 0s - loss: 0.0572 - accuracy: 0.9811\n",
            "Epoch 69: val_accuracy did not improve from 0.91970\n",
            "316/316 [==============================] - 2s 7ms/step - loss: 0.0572 - accuracy: 0.9812 - val_loss: 0.4464 - val_accuracy: 0.9128\n",
            "Epoch 70/79\n",
            "309/316 [============================>.] - ETA: 0s - loss: 0.0544 - accuracy: 0.9800\n",
            "Epoch 70: val_accuracy did not improve from 0.91970\n",
            "316/316 [==============================] - 2s 6ms/step - loss: 0.0548 - accuracy: 0.9796 - val_loss: 0.5504 - val_accuracy: 0.9146\n",
            "Epoch 71/79\n",
            "303/316 [===========================>..] - ETA: 0s - loss: 0.0425 - accuracy: 0.9827\n",
            "Epoch 71: val_accuracy did not improve from 0.91970\n",
            "316/316 [==============================] - 1s 5ms/step - loss: 0.0422 - accuracy: 0.9828 - val_loss: 0.5745 - val_accuracy: 0.9132\n",
            "Epoch 72/79\n",
            "306/316 [============================>.] - ETA: 0s - loss: 0.0448 - accuracy: 0.9816\n",
            "Epoch 72: val_accuracy did not improve from 0.91970\n",
            "316/316 [==============================] - 1s 5ms/step - loss: 0.0449 - accuracy: 0.9814 - val_loss: 0.5444 - val_accuracy: 0.9132\n",
            "Epoch 73/79\n",
            "309/316 [============================>.] - ETA: 0s - loss: 0.0378 - accuracy: 0.9867\n",
            "Epoch 73: val_accuracy did not improve from 0.91970\n",
            "316/316 [==============================] - 2s 6ms/step - loss: 0.0379 - accuracy: 0.9866 - val_loss: 0.5873 - val_accuracy: 0.9123\n",
            "Epoch 74/79\n",
            "304/316 [===========================>..] - ETA: 0s - loss: 0.0396 - accuracy: 0.9870\n",
            "Epoch 74: val_accuracy did not improve from 0.91970\n",
            "316/316 [==============================] - 1s 5ms/step - loss: 0.0398 - accuracy: 0.9866 - val_loss: 0.6053 - val_accuracy: 0.9132\n",
            "Epoch 75/79\n",
            "304/316 [===========================>..] - ETA: 0s - loss: 0.0378 - accuracy: 0.9848\n",
            "Epoch 75: val_accuracy did not improve from 0.91970\n",
            "316/316 [==============================] - 1s 5ms/step - loss: 0.0372 - accuracy: 0.9852 - val_loss: 0.5913 - val_accuracy: 0.9137\n",
            "Epoch 76/79\n",
            "306/316 [============================>.] - ETA: 0s - loss: 0.0406 - accuracy: 0.9833\n",
            "Epoch 76: val_accuracy did not improve from 0.91970\n",
            "316/316 [==============================] - 2s 7ms/step - loss: 0.0402 - accuracy: 0.9832 - val_loss: 0.5866 - val_accuracy: 0.9128\n",
            "Epoch 77/79\n",
            "306/316 [============================>.] - ETA: 0s - loss: 0.0365 - accuracy: 0.9853\n",
            "Epoch 77: val_accuracy did not improve from 0.91970\n",
            "316/316 [==============================] - 2s 7ms/step - loss: 0.0367 - accuracy: 0.9854 - val_loss: 0.6449 - val_accuracy: 0.9156\n",
            "Epoch 78/79\n",
            "313/316 [============================>.] - ETA: 0s - loss: 0.0363 - accuracy: 0.9850\n",
            "Epoch 78: val_accuracy did not improve from 0.91970\n",
            "316/316 [==============================] - 2s 5ms/step - loss: 0.0360 - accuracy: 0.9852 - val_loss: 0.6193 - val_accuracy: 0.9165\n",
            "Epoch 79/79\n",
            "306/316 [============================>.] - ETA: 0s - loss: 0.0322 - accuracy: 0.9884\n",
            "Epoch 79: val_accuracy did not improve from 0.91970\n",
            "316/316 [==============================] - 1s 5ms/step - loss: 0.0323 - accuracy: 0.9883 - val_loss: 0.6382 - val_accuracy: 0.9165\n",
            "Model: \"sequential_9\"\n",
            "_________________________________________________________________\n",
            " Layer (type)                Output Shape              Param #   \n",
            "=================================================================\n",
            " conv2d_16 (Conv2D)          (None, 16, 16, 64)        640       \n",
            "                                                                 \n",
            " max_pooling2d_14 (MaxPoolin  (None, 8, 8, 64)         0         \n",
            " g2D)                                                            \n",
            "                                                                 \n",
            " conv2d_17 (Conv2D)          (None, 8, 8, 128)         73856     \n",
            "                                                                 \n",
            " max_pooling2d_15 (MaxPoolin  (None, 4, 4, 128)        0         \n",
            " g2D)                                                            \n",
            "                                                                 \n",
            " flatten_14 (Flatten)        (None, 2048)              0         \n",
            "                                                                 \n",
            " dense_21 (Dense)            (None, 1024)              2098176   \n",
            "                                                                 \n",
            " flatten_15 (Flatten)        (None, 1024)              0         \n",
            "                                                                 \n",
            " dense_22 (Dense)            (None, 10)                10250     \n",
            "                                                                 \n",
            " dropout_7 (Dropout)         (None, 10)                0         \n",
            "                                                                 \n",
            " dense_23 (Dense)            (None, 3)                 33        \n",
            "                                                                 \n",
            "=================================================================\n",
            "Total params: 2,182,955\n",
            "Trainable params: 2,182,955\n",
            "Non-trainable params: 0\n",
            "_________________________________________________________________\n"
          ]
        }
      ],
      "source": [
        "\n",
        "import numpy as np\n",
        "import pandas as pd\n",
        "from keras.preprocessing.image import ImageDataGenerator\n",
        "from keras.utils import to_categorical\n",
        "from sklearn.model_selection import train_test_split\n",
        "import matplotlib.pyplot as plt\n",
        "import random\n",
        "import os\n",
        "from keras.layers import Dense, Conv2D, MaxPooling2D , Flatten,Dropout\n",
        "import keras\n",
        "from keras.callbacks import ModelCheckpoint, EarlyStopping\n",
        "\n",
        "\n",
        "\n",
        "#Build Model\n",
        "height = 16\n",
        "width = 16\n",
        "channels = 1\n",
        "num_classes = 36\n",
        "\n",
        "epochs = 79\n",
        "checkpoint = ModelCheckpoint(\"adam_3.h5\", monitor='val_accuracy', verbose=1, save_best_only=True, save_weights_only=False, mode='auto', period=1)\n",
        "early = EarlyStopping(monitor='val_accuracy', min_delta=0, patience=2, verbose=1, mode='auto')\n",
        "\n",
        "model = keras.models.Sequential()\n",
        "\n",
        "model.add(Conv2D(64, kernel_size=(3,3), padding='same', activation='relu', input_shape=train.shape[1:]))\n",
        "\n",
        "model.add(MaxPooling2D(pool_size=(2, 2)))\n",
        "\n",
        "\n",
        "model.add(Conv2D(128, kernel_size=(3, 3), padding='same', activation='relu'))\n",
        "\n",
        "model.add(MaxPooling2D(pool_size=(2, 2)))\n",
        "\n",
        "model.add(Flatten())\n",
        "model.add(Dense(1024, activation='relu'))\n",
        "model.add(Flatten())\n",
        "model.add(Dense(10, activation='softmax'))\n",
        "model.add(Dropout(rate=0.5))\n",
        "model.add(Dense(3, activation='softmax'))\n",
        "\n",
        "model.summary()\n",
        "\n",
        "model.compile(loss='categorical_crossentropy', optimizer='adam', metrics=['accuracy'])\n",
        "\n",
        "\n",
        "X_train,X_valid,Y_train,Y_valid = train_test_split(train,train_label,test_size = 0.3,random_state=0)\n",
        "\n",
        "history_adam = model.fit(X_train,Y_train, validation_data=(X_valid, Y_valid), batch_size=16, epochs=epochs,verbose=1,callbacks=checkpoint)\n",
        "\n",
        "\n"
      ]
    },
    {
      "cell_type": "code",
      "execution_count": 80,
      "metadata": {
        "colab": {
          "base_uri": "https://localhost:8080/",
          "height": 312
        },
        "id": "Ch5UZTCWWJxj",
        "outputId": "76fd7d38-9230-4698-9141-2a63675117c0"
      },
      "outputs": [
        {
          "data": {
            "text/plain": [
              "<matplotlib.legend.Legend at 0x7f3690b52880>"
            ]
          },
          "execution_count": 80,
          "metadata": {},
          "output_type": "execute_result"
        },
        {
          "data": {
            "image/png": "[encoded data removed]",
            "text/plain": [
              "<Figure size 432x288 with 1 Axes>"
            ]
          },
          "metadata": {
            "needs_background": "light"
          },
          "output_type": "display_data"
        }
      ],
      "source": [
        "plt.figure(0)\n",
        "plt.plot(history_adam.history['val_accuracy'], label='val acc-with adam')\n",
        "plt.title('validation Accuracy')\n",
        "plt.xlabel('epochs')\n",
        "plt.ylabel('val_accuracy')\n",
        "plt.legend()"
      ]
    },
    {
      "cell_type": "code",
      "execution_count": 81,
      "metadata": {
        "id": "bjm72nZnb7ec"
      },
      "outputs": [],
      "source": [
        "X_test,X_train,Y_test,Y_train = train_test_split(train,train_label,test_size = 0.3,random_state=0)"
      ]
    },
    {
      "cell_type": "code",
      "execution_count": 82,
      "metadata": {
        "colab": {
          "base_uri": "https://localhost:8080/"
        },
        "id": "kD_OsWjk_aFp",
        "outputId": "c0328f35-57f5-4824-9fb3-a1377853c79a"
      },
      "outputs": [
        {
          "name": "stdout",
          "output_type": "stream",
          "text": [
            "Model: \"sequential_10\"\n",
            "_________________________________________________________________\n",
            " Layer (type)                Output Shape              Param #   \n",
            "=================================================================\n",
            " conv2d_18 (Conv2D)          (None, 16, 16, 64)        640       \n",
            "                                                                 \n",
            " max_pooling2d_16 (MaxPoolin  (None, 8, 8, 64)         0         \n",
            " g2D)                                                            \n",
            "                                                                 \n",
            " conv2d_19 (Conv2D)          (None, 8, 8, 128)         73856     \n",
            "                                                                 \n",
            " max_pooling2d_17 (MaxPoolin  (None, 4, 4, 128)        0         \n",
            " g2D)                                                            \n",
            "                                                                 \n",
            " flatten_16 (Flatten)        (None, 2048)              0         \n",
            "                                                                 \n",
            " dense_24 (Dense)            (None, 1024)              2098176   \n",
            "                                                                 \n",
            " flatten_17 (Flatten)        (None, 1024)              0         \n",
            "                                                                 \n",
            " dense_25 (Dense)            (None, 10)                10250     \n",
            "                                                                 \n",
            " dropout_8 (Dropout)         (None, 10)                0         \n",
            "                                                                 \n",
            " dense_26 (Dense)            (None, 3)                 33        \n",
            "                                                                 \n",
            "=================================================================\n",
            "Total params: 2,182,955\n",
            "Trainable params: 2,182,955\n",
            "Non-trainable params: 0\n",
            "_________________________________________________________________\n",
            "Epoch 1/79\n",
            "95/95 [==============================] - 1s 7ms/step - loss: 0.9479 - accuracy: 0.5389 - val_loss: 0.8082 - val_accuracy: 0.8495\n",
            "Epoch 2/79\n",
            "95/95 [==============================] - 1s 6ms/step - loss: 0.7709 - accuracy: 0.6596 - val_loss: 0.6278 - val_accuracy: 0.8464\n",
            "Epoch 3/79\n",
            "95/95 [==============================] - 0s 5ms/step - loss: 0.7016 - accuracy: 0.6814 - val_loss: 0.5417 - val_accuracy: 0.9017\n",
            "Epoch 4/79\n",
            "95/95 [==============================] - 1s 6ms/step - loss: 0.6323 - accuracy: 0.7051 - val_loss: 0.5150 - val_accuracy: 0.8833\n",
            "Epoch 5/79\n",
            "95/95 [==============================] - 1s 8ms/step - loss: 0.6029 - accuracy: 0.7045 - val_loss: 0.4607 - val_accuracy: 0.9063\n",
            "Epoch 6/79\n",
            "95/95 [==============================] - 1s 8ms/step - loss: 0.5696 - accuracy: 0.7104 - val_loss: 0.4483 - val_accuracy: 0.9048\n",
            "Epoch 7/79\n",
            "95/95 [==============================] - 1s 7ms/step - loss: 0.5521 - accuracy: 0.7322 - val_loss: 0.4200 - val_accuracy: 0.9124\n",
            "Epoch 8/79\n",
            "95/95 [==============================] - 1s 8ms/step - loss: 0.5637 - accuracy: 0.7698 - val_loss: 0.4192 - val_accuracy: 0.8909\n",
            "Epoch 9/79\n",
            "95/95 [==============================] - 1s 9ms/step - loss: 0.5020 - accuracy: 0.8292 - val_loss: 0.4424 - val_accuracy: 0.8725\n",
            "Epoch 10/79\n",
            "95/95 [==============================] - 1s 6ms/step - loss: 0.4639 - accuracy: 0.8575 - val_loss: 0.3750 - val_accuracy: 0.9002\n",
            "Epoch 11/79\n",
            "95/95 [==============================] - 1s 6ms/step - loss: 0.4523 - accuracy: 0.8595 - val_loss: 0.3786 - val_accuracy: 0.9002\n",
            "Epoch 12/79\n",
            "95/95 [==============================] - 0s 5ms/step - loss: 0.4178 - accuracy: 0.8747 - val_loss: 0.3838 - val_accuracy: 0.8848\n",
            "Epoch 13/79\n",
            "95/95 [==============================] - 0s 5ms/step - loss: 0.4194 - accuracy: 0.8661 - val_loss: 0.3519 - val_accuracy: 0.8971\n",
            "Epoch 14/79\n",
            "95/95 [==============================] - 1s 6ms/step - loss: 0.3938 - accuracy: 0.8859 - val_loss: 0.3645 - val_accuracy: 0.8848\n",
            "Epoch 15/79\n",
            "95/95 [==============================] - 1s 6ms/step - loss: 0.3674 - accuracy: 0.9044 - val_loss: 0.3418 - val_accuracy: 0.8971\n",
            "Epoch 16/79\n",
            "95/95 [==============================] - 0s 5ms/step - loss: 0.3611 - accuracy: 0.9077 - val_loss: 0.4022 - val_accuracy: 0.8618\n",
            "Epoch 17/79\n",
            "95/95 [==============================] - 1s 6ms/step - loss: 0.3638 - accuracy: 0.8898 - val_loss: 0.3581 - val_accuracy: 0.8894\n",
            "Epoch 18/79\n",
            "95/95 [==============================] - 0s 5ms/step - loss: 0.3319 - accuracy: 0.9037 - val_loss: 0.3407 - val_accuracy: 0.8955\n",
            "Epoch 19/79\n",
            "95/95 [==============================] - 1s 6ms/step - loss: 0.3387 - accuracy: 0.9017 - val_loss: 0.3693 - val_accuracy: 0.8633\n",
            "Epoch 20/79\n",
            "95/95 [==============================] - 1s 6ms/step - loss: 0.3173 - accuracy: 0.9096 - val_loss: 0.3254 - val_accuracy: 0.8909\n",
            "Epoch 21/79\n",
            "95/95 [==============================] - 0s 5ms/step - loss: 0.3587 - accuracy: 0.8925 - val_loss: 0.3207 - val_accuracy: 0.8971\n",
            "Epoch 22/79\n",
            "95/95 [==============================] - 0s 5ms/step - loss: 0.3391 - accuracy: 0.8892 - val_loss: 0.3090 - val_accuracy: 0.9032\n",
            "Epoch 23/79\n",
            "95/95 [==============================] - 0s 5ms/step - loss: 0.3102 - accuracy: 0.9096 - val_loss: 0.3045 - val_accuracy: 0.9078\n",
            "Epoch 24/79\n",
            "95/95 [==============================] - 1s 5ms/step - loss: 0.3084 - accuracy: 0.9149 - val_loss: 0.3058 - val_accuracy: 0.9017\n",
            "Epoch 25/79\n",
            "95/95 [==============================] - 0s 5ms/step - loss: 0.3041 - accuracy: 0.9063 - val_loss: 0.3025 - val_accuracy: 0.9078\n",
            "Epoch 26/79\n",
            "95/95 [==============================] - 1s 5ms/step - loss: 0.3155 - accuracy: 0.8997 - val_loss: 0.3012 - val_accuracy: 0.9048\n",
            "Epoch 27/79\n",
            "95/95 [==============================] - 1s 6ms/step - loss: 0.2898 - accuracy: 0.9175 - val_loss: 0.3021 - val_accuracy: 0.9032\n",
            "Epoch 28/79\n",
            "95/95 [==============================] - 0s 5ms/step - loss: 0.2970 - accuracy: 0.8978 - val_loss: 0.3358 - val_accuracy: 0.8909\n",
            "Epoch 29/79\n",
            "95/95 [==============================] - 1s 7ms/step - loss: 0.2762 - accuracy: 0.9175 - val_loss: 0.2975 - val_accuracy: 0.9078\n",
            "Epoch 30/79\n",
            "95/95 [==============================] - 1s 7ms/step - loss: 0.2804 - accuracy: 0.9136 - val_loss: 0.2986 - val_accuracy: 0.9078\n",
            "Epoch 31/79\n",
            "95/95 [==============================] - 1s 8ms/step - loss: 0.2743 - accuracy: 0.9103 - val_loss: 0.2963 - val_accuracy: 0.9078\n",
            "Epoch 32/79\n",
            "95/95 [==============================] - 1s 9ms/step - loss: 0.2696 - accuracy: 0.9116 - val_loss: 0.2931 - val_accuracy: 0.9094\n",
            "Epoch 33/79\n",
            "95/95 [==============================] - 1s 7ms/step - loss: 0.2692 - accuracy: 0.9169 - val_loss: 0.2959 - val_accuracy: 0.9094\n",
            "Epoch 34/79\n",
            "95/95 [==============================] - 1s 6ms/step - loss: 0.2596 - accuracy: 0.9129 - val_loss: 0.2988 - val_accuracy: 0.9078\n",
            "Epoch 35/79\n",
            "95/95 [==============================] - 1s 6ms/step - loss: 0.2582 - accuracy: 0.9050 - val_loss: 0.2964 - val_accuracy: 0.9048\n",
            "Epoch 36/79\n",
            "95/95 [==============================] - 0s 5ms/step - loss: 0.2510 - accuracy: 0.9083 - val_loss: 0.3103 - val_accuracy: 0.8955\n",
            "Epoch 37/79\n",
            "95/95 [==============================] - 1s 6ms/step - loss: 0.2350 - accuracy: 0.9109 - val_loss: 0.2971 - val_accuracy: 0.9063\n",
            "Epoch 38/79\n",
            "95/95 [==============================] - 1s 5ms/step - loss: 0.2250 - accuracy: 0.9142 - val_loss: 0.3004 - val_accuracy: 0.9032\n",
            "Epoch 39/79\n",
            "95/95 [==============================] - 1s 6ms/step - loss: 0.2281 - accuracy: 0.9116 - val_loss: 0.3050 - val_accuracy: 0.9048\n",
            "Epoch 40/79\n",
            "95/95 [==============================] - 1s 5ms/step - loss: 0.2409 - accuracy: 0.9037 - val_loss: 0.3024 - val_accuracy: 0.9032\n",
            "Epoch 41/79\n",
            "95/95 [==============================] - 0s 5ms/step - loss: 0.2294 - accuracy: 0.9090 - val_loss: 0.3052 - val_accuracy: 0.9032\n",
            "Epoch 42/79\n",
            "95/95 [==============================] - 0s 5ms/step - loss: 0.2587 - accuracy: 0.8912 - val_loss: 0.3789 - val_accuracy: 0.8879\n",
            "Epoch 43/79\n",
            "95/95 [==============================] - 0s 5ms/step - loss: 0.2721 - accuracy: 0.8832 - val_loss: 0.3872 - val_accuracy: 0.8833\n",
            "Epoch 44/79\n",
            "95/95 [==============================] - 0s 5ms/step - loss: 0.2570 - accuracy: 0.8978 - val_loss: 0.2921 - val_accuracy: 0.9032\n",
            "Epoch 45/79\n",
            "95/95 [==============================] - 1s 6ms/step - loss: 0.2379 - accuracy: 0.9017 - val_loss: 0.3580 - val_accuracy: 0.8971\n",
            "Epoch 46/79\n",
            "95/95 [==============================] - 1s 6ms/step - loss: 0.2316 - accuracy: 0.9136 - val_loss: 0.3012 - val_accuracy: 0.9017\n",
            "Epoch 47/79\n",
            "95/95 [==============================] - 1s 5ms/step - loss: 0.2080 - accuracy: 0.9255 - val_loss: 0.3167 - val_accuracy: 0.9032\n",
            "Epoch 48/79\n",
            "95/95 [==============================] - 1s 6ms/step - loss: 0.2177 - accuracy: 0.9235 - val_loss: 0.3005 - val_accuracy: 0.9032\n",
            "Epoch 49/79\n",
            "95/95 [==============================] - 1s 5ms/step - loss: 0.2056 - accuracy: 0.9400 - val_loss: 0.3079 - val_accuracy: 0.9032\n",
            "Epoch 50/79\n",
            "95/95 [==============================] - 1s 6ms/step - loss: 0.2045 - accuracy: 0.9446 - val_loss: 0.3294 - val_accuracy: 0.9017\n",
            "Epoch 51/79\n",
            "95/95 [==============================] - 1s 5ms/step - loss: 0.2157 - accuracy: 0.9400 - val_loss: 0.3047 - val_accuracy: 0.9048\n",
            "Epoch 52/79\n",
            "95/95 [==============================] - 0s 5ms/step - loss: 0.2027 - accuracy: 0.9413 - val_loss: 0.3102 - val_accuracy: 0.9048\n",
            "Epoch 53/79\n",
            "95/95 [==============================] - 1s 9ms/step - loss: 0.1966 - accuracy: 0.9420 - val_loss: 0.3148 - val_accuracy: 0.9017\n",
            "Epoch 54/79\n",
            "95/95 [==============================] - 1s 9ms/step - loss: 0.1978 - accuracy: 0.9439 - val_loss: 0.3076 - val_accuracy: 0.9032\n",
            "Epoch 55/79\n",
            "95/95 [==============================] - 1s 8ms/step - loss: 0.1732 - accuracy: 0.9505 - val_loss: 0.3270 - val_accuracy: 0.9002\n",
            "Epoch 56/79\n",
            "95/95 [==============================] - 1s 7ms/step - loss: 0.1863 - accuracy: 0.9413 - val_loss: 0.3472 - val_accuracy: 0.8986\n",
            "Epoch 57/79\n",
            "95/95 [==============================] - 1s 7ms/step - loss: 0.1701 - accuracy: 0.9578 - val_loss: 0.3376 - val_accuracy: 0.9002\n",
            "Epoch 58/79\n",
            "95/95 [==============================] - 1s 6ms/step - loss: 0.1977 - accuracy: 0.9380 - val_loss: 0.3090 - val_accuracy: 0.9002\n",
            "Epoch 59/79\n",
            "95/95 [==============================] - 1s 6ms/step - loss: 0.1706 - accuracy: 0.9472 - val_loss: 0.3445 - val_accuracy: 0.9002\n",
            "Epoch 60/79\n",
            "95/95 [==============================] - 1s 6ms/step - loss: 0.1837 - accuracy: 0.9413 - val_loss: 0.3170 - val_accuracy: 0.9032\n",
            "Epoch 61/79\n",
            "95/95 [==============================] - 0s 5ms/step - loss: 0.1715 - accuracy: 0.9578 - val_loss: 0.3112 - val_accuracy: 0.9032\n",
            "Epoch 62/79\n",
            "95/95 [==============================] - 1s 6ms/step - loss: 0.1665 - accuracy: 0.9591 - val_loss: 0.3113 - val_accuracy: 0.9048\n",
            "Epoch 63/79\n",
            "95/95 [==============================] - 1s 6ms/step - loss: 0.1674 - accuracy: 0.9624 - val_loss: 0.3386 - val_accuracy: 0.9017\n",
            "Epoch 64/79\n",
            "95/95 [==============================] - 1s 6ms/step - loss: 0.1643 - accuracy: 0.9650 - val_loss: 0.3442 - val_accuracy: 0.9002\n",
            "Epoch 65/79\n",
            "95/95 [==============================] - 1s 6ms/step - loss: 0.1725 - accuracy: 0.9591 - val_loss: 0.3169 - val_accuracy: 0.9017\n",
            "Epoch 66/79\n",
            "95/95 [==============================] - 0s 5ms/step - loss: 0.1589 - accuracy: 0.9611 - val_loss: 0.3265 - val_accuracy: 0.9002\n",
            "Epoch 67/79\n",
            "95/95 [==============================] - 0s 5ms/step - loss: 0.1578 - accuracy: 0.9604 - val_loss: 0.3558 - val_accuracy: 0.9002\n",
            "Epoch 68/79\n",
            "95/95 [==============================] - 1s 5ms/step - loss: 0.1632 - accuracy: 0.9637 - val_loss: 0.3480 - val_accuracy: 0.8971\n",
            "Epoch 69/79\n",
            "95/95 [==============================] - 0s 5ms/step - loss: 0.1423 - accuracy: 0.9611 - val_loss: 0.3529 - val_accuracy: 0.8986\n",
            "Epoch 70/79\n",
            "95/95 [==============================] - 1s 6ms/step - loss: 0.1508 - accuracy: 0.9664 - val_loss: 0.3568 - val_accuracy: 0.8940\n",
            "Epoch 71/79\n",
            "95/95 [==============================] - 1s 6ms/step - loss: 0.1660 - accuracy: 0.9624 - val_loss: 0.3278 - val_accuracy: 0.8940\n",
            "Epoch 72/79\n",
            "95/95 [==============================] - 0s 5ms/step - loss: 0.1486 - accuracy: 0.9631 - val_loss: 0.3250 - val_accuracy: 0.9002\n",
            "Epoch 73/79\n",
            "95/95 [==============================] - 0s 5ms/step - loss: 0.1659 - accuracy: 0.9578 - val_loss: 0.3324 - val_accuracy: 0.8986\n",
            "Epoch 74/79\n",
            "95/95 [==============================] - 0s 5ms/step - loss: 0.1508 - accuracy: 0.9578 - val_loss: 0.3426 - val_accuracy: 0.9002\n",
            "Epoch 75/79\n",
            "95/95 [==============================] - 0s 5ms/step - loss: 0.1618 - accuracy: 0.9532 - val_loss: 0.3547 - val_accuracy: 0.8971\n",
            "Epoch 76/79\n",
            "95/95 [==============================] - 1s 6ms/step - loss: 0.1481 - accuracy: 0.9644 - val_loss: 0.3498 - val_accuracy: 0.8955\n",
            "Epoch 77/79\n",
            "95/95 [==============================] - 1s 7ms/step - loss: 0.1428 - accuracy: 0.9650 - val_loss: 0.3466 - val_accuracy: 0.8971\n",
            "Epoch 78/79\n",
            "95/95 [==============================] - 1s 7ms/step - loss: 0.1378 - accuracy: 0.9637 - val_loss: 0.3640 - val_accuracy: 0.8955\n",
            "Epoch 79/79\n",
            "95/95 [==============================] - 1s 9ms/step - loss: 0.1459 - accuracy: 0.9611 - val_loss: 0.3526 - val_accuracy: 0.8986\n",
            "Model: \"sequential_11\"\n",
            "_________________________________________________________________\n",
            " Layer (type)                Output Shape              Param #   \n",
            "=================================================================\n",
            " conv2d_20 (Conv2D)          (None, 16, 16, 64)        640       \n",
            "                                                                 \n",
            " max_pooling2d_18 (MaxPoolin  (None, 8, 8, 64)         0         \n",
            " g2D)                                                            \n",
            "                                                                 \n",
            " conv2d_21 (Conv2D)          (None, 8, 8, 128)         73856     \n",
            "                                                                 \n",
            " max_pooling2d_19 (MaxPoolin  (None, 4, 4, 128)        0         \n",
            " g2D)                                                            \n",
            "                                                                 \n",
            " flatten_18 (Flatten)        (None, 2048)              0         \n",
            "                                                                 \n",
            " dense_27 (Dense)            (None, 1024)              2098176   \n",
            "                                                                 \n",
            " flatten_19 (Flatten)        (None, 1024)              0         \n",
            "                                                                 \n",
            " dense_28 (Dense)            (None, 10)                10250     \n",
            "                                                                 \n",
            " dropout_9 (Dropout)         (None, 10)                0         \n",
            "                                                                 \n",
            " dense_29 (Dense)            (None, 3)                 33        \n",
            "                                                                 \n",
            "=================================================================\n",
            "Total params: 2,182,955\n",
            "Trainable params: 2,182,955\n",
            "Non-trainable params: 0\n",
            "_________________________________________________________________\n"
          ]
        }
      ],
      "source": [
        "\n",
        "import numpy as np\n",
        "import pandas as pd\n",
        "from keras.preprocessing.image import ImageDataGenerator\n",
        "from keras.utils import to_categorical\n",
        "from sklearn.model_selection import train_test_split\n",
        "import matplotlib.pyplot as plt\n",
        "import random\n",
        "import os\n",
        "from keras.layers import Dense, Conv2D, MaxPooling2D , Flatten,Dropout\n",
        "import keras\n",
        "\n",
        "\n",
        "\n",
        "#Build Model\n",
        "height = 16\n",
        "width = 16\n",
        "channels = 1\n",
        "num_classes = 36\n",
        "epochs=79\n",
        "\n",
        "\n",
        "model = keras.models.Sequential()\n",
        "\n",
        "model.add(Conv2D(64, kernel_size=(3,3), padding='same', activation='relu', input_shape=X_train.shape[1:]))\n",
        "\n",
        "model.add(MaxPooling2D(pool_size=(2, 2)))\n",
        "\n",
        "\n",
        "model.add(Conv2D(128, kernel_size=(3, 3), padding='same', activation='relu'))\n",
        "\n",
        "model.add(MaxPooling2D(pool_size=(2, 2)))\n",
        "\n",
        "model.add(Flatten())\n",
        "model.add(Dense(1024, activation='relu'))\n",
        "model.add(Flatten())\n",
        "model.add(Dense(10, activation='softmax'))\n",
        "model.add(Dropout(rate=0.5))\n",
        "model.add(Dense(3, activation='softmax'))\n",
        "\n",
        "model.summary()\n",
        "\n",
        "model.compile(loss='categorical_crossentropy', optimizer='adam', metrics=['accuracy'])\n",
        "\n",
        "X_train,X_valid,Y_train,Y_valid = train_test_split(X_train,Y_train,test_size = 0.3,random_state=0)\n",
        "\n",
        "\n",
        "history_adam2 = model.fit(X_train,Y_train, validation_data=(X_valid, Y_valid), batch_size=16, epochs=epochs,verbose=1)\n"
      ]
    },
    {
      "cell_type": "code",
      "execution_count": 83,
      "metadata": {
        "colab": {
          "base_uri": "https://localhost:8080/",
          "height": 312
        },
        "id": "2U919NcWf6a-",
        "outputId": "b7289202-ac90-4ddf-d514-95a23382c651"
      },
      "outputs": [
        {
          "data": {
            "text/plain": [
              "<matplotlib.legend.Legend at 0x7f3691bd3400>"
            ]
          },
          "execution_count": 83,
          "metadata": {},
          "output_type": "execute_result"
        },
        {
          "data": {
            "image/png": "[encoded data removed]",
            "text/plain": [
              "<Figure size 432x288 with 1 Axes>"
            ]
          },
          "metadata": {
            "needs_background": "light"
          },
          "output_type": "display_data"
        }
      ],
      "source": [
        "plt.figure(0)\n",
        "plt.plot(history_adam2.history['val_accuracy'], label='val acc-with adam')\n",
        "plt.title('test Accuracy')\n",
        "plt.xlabel('epochs')\n",
        "plt.ylabel('val_accuracy')\n",
        "plt.legend()"
      ]
    },
    {
      "cell_type": "code",
      "execution_count": 84,
      "metadata": {
        "colab": {
          "base_uri": "https://localhost:8080/",
          "height": 312
        },
        "id": "mZoVeFR5UchS",
        "outputId": "deb8d817-12d5-4f89-fe86-6cb92fc4c3c0"
      },
      "outputs": [
        {
          "data": {
            "text/plain": [
              "<matplotlib.legend.Legend at 0x7f3691e3a700>"
            ]
          },
          "execution_count": 84,
          "metadata": {},
          "output_type": "execute_result"
        },
        {
          "data": {
            "image/png": "[encoded data removed]",
            "text/plain": [
              "<Figure size 432x288 with 1 Axes>"
            ]
          },
          "metadata": {
            "needs_background": "light"
          },
          "output_type": "display_data"
        }
      ],
      "source": [
        "#plot adam & SGD\n",
        "plt.figure(0)\n",
        "plt.plot(history_adam.history['val_accuracy'], label='val acc-with adam')\n",
        "plt.plot(history_adam2.history['val_accuracy'], label='val acc-with adam2')\n",
        "plt.title('train Accuracy')\n",
        "plt.xlabel('epochs')\n",
        "plt.ylabel('val_accuracy')\n",
        "plt.legend()"
      ]
    },
    {
      "cell_type": "code",
      "execution_count": 85,
      "metadata": {
        "colab": {
          "base_uri": "https://localhost:8080/"
        },
        "id": "wqk3qnokT4r2",
        "outputId": "22cd7b0b-5cce-46c6-c66b-5f18fc40bfc9"
      },
      "outputs": [
        {
          "name": "stdout",
          "output_type": "stream",
          "text": [
            "158/158 [==============================] - 0s 3ms/step - loss: 0.3432 - accuracy: 0.8890\n",
            "loss =  0.3431868851184845 acc =  0.8890427350997925\n"
          ]
        }
      ],
      "source": [
        "loss,acc = model.evaluate(X_test,Y_test)\n",
        "print('loss = ',loss,'acc = ',acc)"
      ]
    },
    {
      "cell_type": "code",
      "execution_count": 86,
      "metadata": {
        "colab": {
          "base_uri": "https://localhost:8080/"
        },
        "id": "lEzRgshkS8Z_",
        "outputId": "9cfebb20-5b27-4396-9ea6-c8ff04108b48"
      },
      "outputs": [
        {
          "name": "stdout",
          "output_type": "stream",
          "text": [
            "158/158 [==============================] - 0s 2ms/step\n"
          ]
        }
      ],
      "source": [
        "test_pred=model.predict(X_test)"
      ]
    },
    {
      "cell_type": "code",
      "execution_count": 87,
      "metadata": {
        "id": "jV5L_JR-S-bj"
      },
      "outputs": [],
      "source": [
        "test_pred_label=[]\n",
        "for i in range(0,len(test_pred)):\n",
        "  test_pred_label.append(test_pred[i].argmax())\n"
      ]
    },
    {
      "cell_type": "code",
      "execution_count": 88,
      "metadata": {
        "id": "UieNutTgTAjs"
      },
      "outputs": [],
      "source": [
        "test_actual_label=[]\n",
        "for i in range(0,len(test_pred)):\n",
        "  test_actual_label.append(Y_test[i].argmax())"
      ]
    },
    {
      "cell_type": "code",
      "execution_count": 89,
      "metadata": {
        "colab": {
          "base_uri": "https://localhost:8080/"
        },
        "id": "SRsTCrOOTCvj",
        "outputId": "5a6713a8-9937-4e5d-d235-fe6582d9e8f7"
      },
      "outputs": [
        {
          "data": {
            "text/plain": [
              "5056"
            ]
          },
          "execution_count": 89,
          "metadata": {},
          "output_type": "execute_result"
        }
      ],
      "source": [
        "len(test_pred_label)"
      ]
    },
    {
      "cell_type": "code",
      "execution_count": 90,
      "metadata": {
        "colab": {
          "base_uri": "https://localhost:8080/"
        },
        "id": "b4w6cIRsTEY7",
        "outputId": "9dcfe639-44d6-4f06-f5e9-439cd0bcc304"
      },
      "outputs": [
        {
          "data": {
            "text/plain": [
              "5056"
            ]
          },
          "execution_count": 90,
          "metadata": {},
          "output_type": "execute_result"
        }
      ],
      "source": [
        "len(test_actual_label)"
      ]
    },
    {
      "cell_type": "code",
      "execution_count": 91,
      "metadata": {
        "colab": {
          "base_uri": "https://localhost:8080/"
        },
        "id": "Jdu2eubYTGsW",
        "outputId": "b5dff974-1b9e-4ea9-a6e7-9677f265e39b"
      },
      "outputs": [
        {
          "data": {
            "text/plain": [
              "0.8890427215189873"
            ]
          },
          "execution_count": 91,
          "metadata": {},
          "output_type": "execute_result"
        }
      ],
      "source": [
        "from sklearn import metrics\n",
        "metrics.accuracy_score(test_pred_label,test_actual_label)"
      ]
    },
    {
      "cell_type": "code",
      "execution_count": 92,
      "metadata": {
        "colab": {
          "base_uri": "https://localhost:8080/",
          "height": 34
        },
        "id": "AsWYfsevOM9N",
        "outputId": "a5ef3549-01a6-4daa-bfe5-dd994bf79510"
      },
      "outputs": [
        {
          "data": {
            "image/png": "[encoded data removed]",
            "text/plain": [
              "<PIL.Image.Image image mode=L size=16x16 at 0x7F3691C4CCA0>"
            ]
          },
          "metadata": {},
          "output_type": "display_data"
        }
      ],
      "source": [
        "\n",
        "test=sio.loadmat(\"/content/drive/MyDrive/HRCT/inflammation/4.mat\")\n",
        "a=test[\"totalDataSource\"].reshape(test[\"totalDataSource\"].shape[2],16,16)[0]\n",
        "cv2_imshow(a)"
      ]
    }
  ],
  "metadata": {
    "accelerator": "GPU",
    "colab": {
      "provenance": []
    },
    "gpuClass": "standard",
    "kernelspec": {
      "display_name": "Python 3",
      "name": "python3"
    },
    "language_info": {
      "name": "python"
    }
  },
  "nbformat": 4,
  "nbformat_minor": 0
}
